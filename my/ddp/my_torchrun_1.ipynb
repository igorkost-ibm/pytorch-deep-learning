{
 "cells": [
  {
   "cell_type": "code",
   "execution_count": null,
   "metadata": {},
   "outputs": [],
   "source": [
    "import os\n",
    "# os.environ[\"MASTER_ADDR\"] = \"127.0.0.2\"\n",
    "# os.environ[\"MASTER_PORT\"] = \"12355\""
   ]
  },
  {
   "cell_type": "code",
   "execution_count": 3,
   "metadata": {},
   "outputs": [
    {
     "name": "stdout",
     "output_type": "stream",
     "text": [
      "W0606 19:12:42.703361 8599616192 torch/distributed/elastic/multiprocessing/redirects.py:27] NOTE: Redirects are currently not supported in Windows or MacOs.\n",
      "W0606 19:12:42.710340 8599616192 torch/distributed/run.py:757] \n",
      "W0606 19:12:42.710340 8599616192 torch/distributed/run.py:757] *****************************************\n",
      "W0606 19:12:42.710340 8599616192 torch/distributed/run.py:757] Setting OMP_NUM_THREADS environment variable for each process to be 1 in default, to avoid your system being overloaded, please further tune the variable for optimal performance in your application as needed. \n",
      "W0606 19:12:42.710340 8599616192 torch/distributed/run.py:757] *****************************************\n",
      "STARTING on localhost | WORLD_SIZE = 4 | LOCAL_RANK = 1 |  GLOBAL_RANK = 1\n",
      "[W ProcessGroupGloo.cpp:751] Warning: Unable to resolve hostname to a (local) address. Using the loopback address as fallback. Manually set the network interface to bind to with GLOO_SOCKET_IFNAME. (function operator())\n",
      "STARTING on localhost | WORLD_SIZE = 4 | LOCAL_RANK = 0 |  GLOBAL_RANK = 0\n",
      "[W ProcessGroupGloo.cpp:751] Warning: Unable to resolve hostname to a (local) address. Using the loopback address as fallback. Manually set the network interface to bind to with GLOO_SOCKET_IFNAME. (function operator())\n",
      "TRAIN dataset size: 800\n",
      "TEST  dataset size: 200\n",
      "TRAIN dataset size: 800\n",
      "TEST  dataset size: 200\n",
      "[cpu:0:0:78347]: init with model OrderedDict([('module.w2', tensor([0.3923])), ('module.w1', tensor([-0.2236])), ('module.w0', tensor([-0.3195]))])[cpu:1:1:78349]: init with model OrderedDict([('module.w2', tensor([0.3923])), ('module.w1', tensor([-0.2236])), ('module.w0', tensor([-0.3195]))])\n",
      "\n",
      "[cpu:0:0:78347]: epoch:  100 | batch_size: 100 | steps: 2 | train_loss: 0.00334 | test_loss: 0.05660 \n",
      "[cpu:1:1:78349]: epoch:  100 | batch_size: 100 | steps: 2 | train_loss: 0.00334 | test_loss: 0.05660 \n",
      "[cpu:0:0:78347]: epoch:  200 | batch_size: 100 | steps: 2 | train_loss: 0.00216 | test_loss: 0.03714 \n",
      "[cpu:1:1:78349]: epoch:  200 | batch_size: 100 | steps: 2 | train_loss: 0.00216 | test_loss: 0.03714 \n",
      "[cpu:0:0:78347]: epoch:  300 | batch_size: 100 | steps: 2 | train_loss: 0.00139 | test_loss: 0.02338 \n",
      "[cpu:1:1:78349]: epoch:  300 | batch_size: 100 | steps: 2 | train_loss: 0.00139 | test_loss: 0.02338 \n",
      "[cpu:0:0:78347]: epoch:  400 | batch_size: 100 | steps: 2 | train_loss: 0.00090 | test_loss: 0.01569 \n",
      "[cpu:1:1:78349]: epoch:  400 | batch_size: 100 | steps: 2 | train_loss: 0.00090 | test_loss: 0.01569 \n",
      "[cpu:0:0:78347]: epoch:  500 | batch_size: 100 | steps: 2 | train_loss: 0.00058 | test_loss: 0.01000 \n",
      "[cpu:1:1:78349]: epoch:  500 | batch_size: 100 | steps: 2 | train_loss: 0.00058 | test_loss: 0.01000 \n",
      "[cpu:0:0:78347]: epoch:  600 | batch_size: 100 | steps: 2 | train_loss: 0.00038 | test_loss: 0.00644 \n",
      "[cpu:1:1:78349]: epoch:  600 | batch_size: 100 | steps: 2 | train_loss: 0.00038 | test_loss: 0.00644 \n",
      "[cpu:0:0:78347]: epoch:  700 | batch_size: 100 | steps: 2 | train_loss: 0.00024 | test_loss: 0.00403 \n",
      "[cpu:1:1:78349]: epoch:  700 | batch_size: 100 | steps: 2 | train_loss: 0.00024 | test_loss: 0.00403 \n",
      "[cpu:0:0:78347]: epoch:  800 | batch_size: 100 | steps: 2 | train_loss: 0.00016 | test_loss: 0.00272 \n",
      "[cpu:1:1:78349]: epoch:  800 | batch_size: 100 | steps: 2 | train_loss: 0.00016 | test_loss: 0.00272 \n",
      "[cpu:0:0:78347]: epoch:  900 | batch_size: 100 | steps: 2 | train_loss: 0.00010 | test_loss: 0.00174 \n",
      "[cpu:1:1:78349]: epoch:  900 | batch_size: 100 | steps: 2 | train_loss: 0.00010 | test_loss: 0.00174 \n",
      "[cpu:0:0:78347]: epoch: 1000 | batch_size: 100 | steps: 2 | train_loss: 0.00007 | test_loss: 0.00110 \n",
      "[cpu:1:1:78349]: epoch: 1000 | batch_size: 100 | steps: 2 | train_loss: 0.00007 | test_loss: 0.00110 \n",
      "[cpu:0:0:78347]: epoch: 1100 | batch_size: 100 | steps: 2 | train_loss: 0.00004 | test_loss: 0.00071 \n",
      "[cpu:1:1:78349]: epoch: 1100 | batch_size: 100 | steps: 2 | train_loss: 0.00004 | test_loss: 0.00071 \n",
      "[cpu:0:0:78347]: epoch: 1200 | batch_size: 100 | steps: 2 | train_loss: 0.00003 | test_loss: 0.00047 \n",
      "[cpu:1:1:78349]: epoch: 1200 | batch_size: 100 | steps: 2 | train_loss: 0.00003 | test_loss: 0.00047 \n",
      "[cpu:1:1:78349]: epoch: 1300 | batch_size: 100 | steps: 2 | train_loss: 0.00002 | test_loss: 0.00030 \n",
      "[cpu:0:0:78347]: epoch: 1300 | batch_size: 100 | steps: 2 | train_loss: 0.00002 | test_loss: 0.00030 \n",
      "[cpu:0:0:78347]: epoch: 1400 | batch_size: 100 | steps: 2 | train_loss: 0.00001 | test_loss: 0.00020 \n",
      "[cpu:1:1:78349]: epoch: 1400 | batch_size: 100 | steps: 2 | train_loss: 0.00001 | test_loss: 0.00020 \n",
      "[cpu:1:1:78349]: epoch: 1500 | batch_size: 100 | steps: 2 | train_loss: 0.00001 | test_loss: 0.00013 [cpu:0:0:78347]: epoch: 1500 | batch_size: 100 | steps: 2 | train_loss: 0.00001 | test_loss: 0.00013 \n",
      "\n",
      "[cpu:0:0:78347]: epoch: 1600 | batch_size: 100 | steps: 2 | train_loss: 0.00000 | test_loss: 0.00008 \n",
      "[cpu:1:1:78349]: epoch: 1600 | batch_size: 100 | steps: 2 | train_loss: 0.00000 | test_loss: 0.00008 \n",
      "[cpu:0:0:78347]: epoch: 1700 | batch_size: 100 | steps: 2 | train_loss: 0.00000 | test_loss: 0.00005 \n",
      "[cpu:1:1:78349]: epoch: 1700 | batch_size: 100 | steps: 2 | train_loss: 0.00000 | test_loss: 0.00005 \n",
      "[cpu:0:0:78347]: epoch: 1800 | batch_size: 100 | steps: 2 | train_loss: 0.00000 | test_loss: 0.00003 \n",
      "[cpu:1:1:78349]: epoch: 1800 | batch_size: 100 | steps: 2 | train_loss: 0.00000 | test_loss: 0.00003 \n",
      "[cpu:0:0:78347]: epoch: 1900 | batch_size: 100 | steps: 2 | train_loss: 0.00000 | test_loss: 0.00002 \n",
      "[cpu:1:1:78349]: epoch: 1900 | batch_size: 100 | steps: 2 | train_loss: 0.00000 | test_loss: 0.00002 \n",
      "[cpu:0:0:78347]: epoch: 2000 | batch_size: 100 | steps: 2 | train_loss: 0.00000 | test_loss: 0.00001 \n",
      "[cpu:1:1:78349]: epoch: 2000 | batch_size: 100 | steps: 2 | train_loss: 0.00000 | test_loss: 0.00001 \n",
      "ALL DONE: 4.3 secsALL DONE: 3.7 secs\n",
      "\n"
     ]
    }
   ],
   "source": [
    "!torchrun --nnodes=2 --nproc_per_node=2 --master_addr=localhost --master_port=12355 --node_rank=0 my_multicpu_3.py 2000 0"
   ]
  },
  {
   "cell_type": "code",
   "execution_count": null,
   "metadata": {},
   "outputs": [],
   "source": []
  }
 ],
 "metadata": {
  "kernelspec": {
   "display_name": "edm",
   "language": "python",
   "name": "python3"
  },
  "language_info": {
   "codemirror_mode": {
    "name": "ipython",
    "version": 3
   },
   "file_extension": ".py",
   "mimetype": "text/x-python",
   "name": "python",
   "nbconvert_exporter": "python",
   "pygments_lexer": "ipython3",
   "version": "3.9.19"
  }
 },
 "nbformat": 4,
 "nbformat_minor": 2
}
